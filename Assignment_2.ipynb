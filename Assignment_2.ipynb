{
 "cells": [
  {
   "cell_type": "markdown",
   "metadata": {},
   "source": [
    "# Task 1"
   ]
  },
  {
   "cell_type": "code",
   "execution_count": 11,
   "metadata": {},
   "outputs": [
    {
     "name": "stdout",
     "output_type": "stream",
     "text": [
      "42\n",
      "tamilnadu\n",
      "720\n"
     ]
    }
   ],
   "source": [
    "# myreduce function\n",
    "def myreduce(func, listing):\n",
    "    out=func(listing[0], listing[1])\n",
    "    for i in range(2,len(listing)):\n",
    "        out=func(listing[i],out)\n",
    "    return out\n",
    "\n",
    "test_fn = lambda x,y : x+y\n",
    "test_list = [2,4,7,12,17]\n",
    "print(myreduce(test_fn, test_list))\n",
    "test_fn2 = lambda x,y : x if len(x)>len(y) else y\n",
    "test_list2 = ['harsh', 'vardhan', 'palawat', 'goa', 'tamilnadu', 'raipur', 'shimla']\n",
    "print(myreduce(test_fn2, test_list2))\n",
    "test_fn3 = lambda x,y : x*y\n",
    "test_list3 = [1,2,3,4,5,6]\n",
    "print(myreduce(test_fn3, test_list3))"
   ]
  },
  {
   "cell_type": "code",
   "execution_count": 13,
   "metadata": {},
   "outputs": [
    {
     "name": "stdout",
     "output_type": "stream",
     "text": [
      "[4, 7, 12, 17]\n",
      "[2, 4, 12, 34, 24, 68]\n"
     ]
    }
   ],
   "source": [
    "# myfilter function\n",
    "def myfilter(func, listing):\n",
    "    new_list=[]\n",
    "    for i in listing:\n",
    "        if func(i):\n",
    "            new_list.append(i)\n",
    "    return new_list\n",
    "\n",
    "test_fn = lambda x : x>3\n",
    "test_list = [2,4,7,12,17]\n",
    "print(myfilter(test_fn, test_list))\n",
    "test_fn2 = lambda x : x%2==0\n",
    "test_list2 = [2,4,7,12,17,34,21,47,3,57,85,24,68]\n",
    "print(myfilter(test_fn2, test_list2))"
   ]
  },
  {
   "cell_type": "code",
   "execution_count": 24,
   "metadata": {},
   "outputs": [
    {
     "name": "stdout",
     "output_type": "stream",
     "text": [
      "['A', 'C', 'A', 'D', 'G', 'I', 'L', 'D']\n"
     ]
    }
   ],
   "source": [
    "# list comprehensions to produce\n",
    "# ['A', 'C', 'A', 'D', 'G', 'I', 'L', 'D']\n",
    "word= 'ACADGILD'\n",
    "l1=[i for i in word]\n",
    "print(l1)"
   ]
  },
  {
   "cell_type": "code",
   "execution_count": 26,
   "metadata": {},
   "outputs": [
    {
     "name": "stdout",
     "output_type": "stream",
     "text": [
      "['x', 'xx', 'xxx', 'xxxx', 'y', 'yy', 'yyy', 'yyyy', 'z', 'zz', 'zzz', 'zzzz']\n"
     ]
    }
   ],
   "source": [
    "# ['x', 'xx', 'xxx', 'xxxx', 'y', 'yy', 'yyy', 'yyyy', 'z', 'zz', 'zzz', 'zzzz']\n",
    "letter=['x','y','z']\n",
    "l2=[i*j for i in letter for j in range(1,5)]\n",
    "print(l2)"
   ]
  },
  {
   "cell_type": "code",
   "execution_count": 25,
   "metadata": {},
   "outputs": [
    {
     "name": "stdout",
     "output_type": "stream",
     "text": [
      "['x', 'y', 'z', 'xx', 'yy', 'zz', 'xxx', 'yyy', 'zzz', 'xxxx', 'yyyy', 'zzzz']\n"
     ]
    }
   ],
   "source": [
    "# ['x', 'y', 'z', 'xx', 'yy', 'zz', 'xx', 'yy', 'zz', 'xxxx', 'yyyy', 'zzzz'\n",
    "letter=['x','y','z']\n",
    "l3=[i*j for j in range(1,5) for i in letter]\n",
    "print(l3)"
   ]
  },
  {
   "cell_type": "code",
   "execution_count": 28,
   "metadata": {},
   "outputs": [
    {
     "name": "stdout",
     "output_type": "stream",
     "text": [
      "[[2], [3], [4], [3], [4], [5], [4], [5], [6]]\n"
     ]
    }
   ],
   "source": [
    "# [[2], [3], [4], [3], [4], [5], [4], [5], [6]]\n",
    "num=[2,3,4]\n",
    "l4=[[i+j] for i in num for j in range(0,3)]\n",
    "print(l4)"
   ]
  },
  {
   "cell_type": "code",
   "execution_count": 33,
   "metadata": {},
   "outputs": [
    {
     "name": "stdout",
     "output_type": "stream",
     "text": [
      "[[2, 3, 4, 5], [3, 4, 5, 6], [4, 5, 6, 7], [5, 6, 7, 8]]\n"
     ]
    }
   ],
   "source": [
    "# [[2, 3, 4, 5], [3, 4, 5, 6], [4, 5, 6, 7], [5, 6, 7, 8]]\n",
    "num=[2,3,4,5]\n",
    "l5= [[i+j for i in num] for j in range(0,4)]\n",
    "print(l5)"
   ]
  },
  {
   "cell_type": "code",
   "execution_count": 34,
   "metadata": {},
   "outputs": [
    {
     "name": "stdout",
     "output_type": "stream",
     "text": [
      "[(1, 1), (2, 1), (3, 1), (1, 2), (2, 2), (3, 2), (1, 3), (2, 3), (3, 3)]\n"
     ]
    }
   ],
   "source": [
    "# [(1, 1), (2, 1), (3, 1), (1, 2), (2, 2), (3, 2), (1, 3), (2, 3), (3, 3)]\n",
    "l6= [(i,j) for j in range(1,4) for i in range(1,4)]\n",
    "print(l6)"
   ]
  },
  {
   "cell_type": "code",
   "execution_count": 37,
   "metadata": {},
   "outputs": [
    {
     "data": {
      "text/plain": [
       "'rajansoni'"
      ]
     },
     "execution_count": 37,
     "metadata": {},
     "output_type": "execute_result"
    }
   ],
   "source": [
    "def longestWord(listing):\n",
    "    longest=''\n",
    "    for i in listing:\n",
    "        if len(i) > len(longest):\n",
    "            longest = i\n",
    "    return longest\n",
    "test_list = ['harsh', 'vardhan', 'rajansoni', 'palawat', 'goa', 'tamilnadu', 'raipur', 'shimla']\n",
    "longestWord(test_list)"
   ]
  },
  {
   "cell_type": "markdown",
   "metadata": {},
   "source": [
    "# Task 2"
   ]
  },
  {
   "cell_type": "code",
   "execution_count": 71,
   "metadata": {},
   "outputs": [
    {
     "name": "stdout",
     "output_type": "stream",
     "text": [
      "6.0\n",
      "26.832815729997478\n"
     ]
    }
   ],
   "source": [
    "class triangle(object):\n",
    "    \n",
    "    def __init__(self, a,b,c):\n",
    "        self.a=a\n",
    "        self.b=b\n",
    "        self.c=c\n",
    "        \n",
    "    def get_area():\n",
    "        pass\n",
    "\n",
    "class area(triangle):\n",
    "    \n",
    "    def __init__(self,a,b,c):\n",
    "        triangle.__init__(self,a,b,c)\n",
    "        \n",
    "    def get_area(self):\n",
    "        s=(self.a+self.b+self.c)/2\n",
    "        area=(s*(s-self.a)*(s-self.b)*(s-self.c))**0.5\n",
    "        return area\n",
    "\n",
    "area1=area(3,4,5)\n",
    "res1=area1.get_area()\n",
    "print(res1)\n",
    "\n",
    "area2=area(7,8,9)\n",
    "res2=area2.get_area()\n",
    "print(res2)"
   ]
  },
  {
   "cell_type": "code",
   "execution_count": 73,
   "metadata": {},
   "outputs": [
    {
     "name": "stdout",
     "output_type": "stream",
     "text": [
      "['vardhan', 'palawat', 'jahanvi']\n",
      "['harsh', 'vardhan', 'palawat', 'jahanvi', 'tiger']\n"
     ]
    }
   ],
   "source": [
    "# filter_long_words\n",
    "def filter_long_words(word_list, n):\n",
    "    new_list=[]\n",
    "    for i in word_list:\n",
    "        if len(i)>n:\n",
    "            new_list.append(i)\n",
    "    return new_list\n",
    "\n",
    "l1=['harsh','vardhan','palawat','yash','jahanvi','goa','tiger']\n",
    "print(filter_long_words(l1,5))\n",
    "print(filter_long_words(l1,4))"
   ]
  },
  {
   "cell_type": "code",
   "execution_count": 74,
   "metadata": {},
   "outputs": [
    {
     "data": {
      "text/plain": [
       "[5, 7, 7, 4, 7, 3, 5]"
      ]
     },
     "execution_count": 74,
     "metadata": {},
     "output_type": "execute_result"
    }
   ],
   "source": [
    "# Write a Python program using function concept that maps list of words into a list of integers\n",
    "# representing the lengths of the corresponding words.\n",
    "def mapping(listing):\n",
    "    new_list=[]\n",
    "    for i in listing:\n",
    "        new_list.append(len(i))\n",
    "    return new_list\n",
    "\n",
    "l1=['harsh','vardhan','palawat','yash','jahanvi','goa','tiger']\n",
    "mapping(l1)"
   ]
  },
  {
   "cell_type": "code",
   "execution_count": 75,
   "metadata": {},
   "outputs": [
    {
     "name": "stdout",
     "output_type": "stream",
     "text": [
      "False\n",
      "True\n",
      "True\n"
     ]
    }
   ],
   "source": [
    "# Write a Python function which takes a character (i.e. a string of length 1) and returns True if it is\n",
    "# a vowel, False otherwise.\n",
    "def check(char):\n",
    "    if char.lower() in ['a','e','i','o','u']:\n",
    "        return True\n",
    "    else:\n",
    "        return False\n",
    "    \n",
    "print(check('L'))\n",
    "print(check('a'))\n",
    "print(check('E'))"
   ]
  },
  {
   "cell_type": "code",
   "execution_count": null,
   "metadata": {},
   "outputs": [],
   "source": []
  }
 ],
 "metadata": {
  "kernelspec": {
   "display_name": "Python 3",
   "language": "python",
   "name": "python3"
  },
  "language_info": {
   "codemirror_mode": {
    "name": "ipython",
    "version": 3
   },
   "file_extension": ".py",
   "mimetype": "text/x-python",
   "name": "python",
   "nbconvert_exporter": "python",
   "pygments_lexer": "ipython3",
   "version": "3.7.7"
  }
 },
 "nbformat": 4,
 "nbformat_minor": 4
}
